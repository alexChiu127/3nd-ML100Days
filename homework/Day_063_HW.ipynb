{
 "cells": [
  {
   "cell_type": "markdown",
   "metadata": {},
   "source": [
    "# 作業\n",
    "* 在精簡深度學習的方式上 : 卷積類神經 (CNN) 採用像素遠近，而遞歸類神經 (RNN) 採用著則是時間遠近\n",
    "* 那麼，既然有著類似的設計精神，兩者是否有可能互換應用呢?"
   ]
  },
  {
   "cell_type": "markdown",
   "metadata": {
    "collapsed": true
   },
   "source": [
    "CNN是前饋神經網路，即各層資訊固定往前傳遞，但前饋式神經網路設計沒辦法因應需要前後關係的問題。\n",
    "\n",
    "例如，自然語言處理(Natural Language Processing, NLP) 中，如果要預測下一個字詞，我們就需要前段的文字資訊才能判斷。[1]\n",
    "\n",
    "如果是前饋式的類神經網路，在辨識照片上能夠取得不錯的結果，是因為辨識的照片之間，沒有前後關係。像是這張影像如果是貓，下張需要辨識的影像可能是大象，貓與大象之間是沒有邏輯上的直接相關性。\n",
    "\n",
    "但是如果需要因應包含時間上順序(order)的問題，前饋式類神經網路就顯得力不從心。\n",
    "\n",
    "但是RNN則不同，它的設計允許前一層的輸出能夠影響下一個時刻的輸出。意即是隱藏層(Hidden Layer)的神經元能夠接收到前一個時刻其他同層神經元，甚至自己本身的輸出的回饋(feedback)。因此，能根據前一輪記憶的結果來提昇推測下一個單字的準確度。[2]"
   ]
  },
  {
   "cell_type": "code",
   "execution_count": null,
   "metadata": {},
   "outputs": [],
   "source": []
  }
 ],
 "metadata": {
  "kernelspec": {
   "display_name": "Python 3",
   "language": "python",
   "name": "python3"
  },
  "language_info": {
   "codemirror_mode": {
    "name": "ipython",
    "version": 3
   },
   "file_extension": ".py",
   "mimetype": "text/x-python",
   "name": "python",
   "nbconvert_exporter": "python",
   "pygments_lexer": "ipython3",
   "version": "3.7.3"
  }
 },
 "nbformat": 4,
 "nbformat_minor": 2
}
